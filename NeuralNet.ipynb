{
 "cells": [
  {
   "cell_type": "markdown",
   "metadata": {},
   "source": [
    "<img src='http://www-scf.usc.edu/~ghasemig/images/sharif.png' alt=\"SUT logo\" width=200 height=200 align=left class=\"saturate\" >\n",
    "\n",
    "<br>\n",
    "<font face=\"Times New Roman\">\n",
    "<div dir=ltr align=center>\n",
    "<font color=0F5298 size=7>\n",
    "    Introduction to Machine Learning <br>\n",
    "<font color=2565AE size=5>\n",
    "    Computer Engineering Department <br>\n",
    "    Fall 2022<br>\n",
    "<font color=3C99D size=5>\n",
    "    Homework 3: Practical - Neural Network <br>\n",
    "<font color=696880 size=4>\n",
    "    Javad Hezareh \n",
    "    \n",
    "    \n",
    "____\n"
   ]
  },
  {
   "cell_type": "markdown",
   "metadata": {},
   "source": [
    "### Full Name : Mohammad Bagher Soltani\n",
    "### Student Number : 98105813\n",
    "___"
   ]
  },
  {
   "cell_type": "markdown",
   "metadata": {},
   "source": [
    "# Problem\n",
    "In this assignment our goal is to develop a framework for simple neural networks, multi layer perceptrons. We are going to use only `numpy` and no other packages to build our own classes and network."
   ]
  },
  {
   "cell_type": "markdown",
   "metadata": {},
   "source": [
    "# Setup"
   ]
  },
  {
   "cell_type": "code",
   "execution_count": 1,
   "metadata": {
    "id": "D_a46D-Gz3Rj"
   },
   "outputs": [],
   "source": [
    "###################################\n",
    "#  Do Not Add any other packages  #\n",
    "###################################\n",
    "\n",
    "import numpy as np\n",
    "import seaborn as sn\n",
    "import matplotlib.pyplot as plt\n",
    "import tqdm\n",
    "import copy\n",
    "from utils import *\n",
    "\n",
    "plt.style.use('ggplot')"
   ]
  },
  {
   "cell_type": "markdown",
   "metadata": {},
   "source": [
    "# Section 1: Modules implementation (65 Points)\n",
    "We are going to implement required modules for a neural net. Each of this modules must implement the neccessery functions, `_forward` and `backward`. In the following parts, we will implement `LinearLayer`, `ReLU` and `SoftMax` layers."
   ]
  },
  {
   "cell_type": "markdown",
   "metadata": {},
   "source": [
    "## Layers"
   ]
  },
  {
   "cell_type": "markdown",
   "metadata": {},
   "source": [
    "#### Linear Layer (10 Points)"
   ]
  },
  {
   "cell_type": "code",
   "execution_count": 2,
   "metadata": {
    "id": "moGEgpV999cl"
   },
   "outputs": [],
   "source": [
    "class LinearLayer(Module):\n",
    "    \"\"\"\n",
    "    A linear layer module which calculate (Wx + b).\n",
    "    \"\"\"\n",
    "\n",
    "    def __init__(self, dim_in, dim_out, initializer, reg, alpha, calc_grad_x=True):\n",
    "        \"\"\"\n",
    "        Args:\n",
    "            - dim_in: input dimension,\n",
    "            - dim_out: output dimension,\n",
    "            - initializer: a function which get (dim_in, dim_out) and initialize\n",
    "                a [dim_in x dim_out] matrix,\n",
    "            - reg: L2-regularization flag\n",
    "            - alpha: L2-regularization coefficient\n",
    "        \"\"\"\n",
    "        self.dim_in = dim_in\n",
    "        self.dim_out = dim_out\n",
    "        self.calc_grad_x = calc_grad_x\n",
    "        self.params = {\n",
    "            #########################################\n",
    "            ##          Initialize parameters      ##\n",
    "            ##              Your Code              ##\n",
    "            #########################################\n",
    "            'W': initializer(dim_in, dim_out),\n",
    "            'b': initializer(1, dim_out).reshape(dim_out)\n",
    "        }\n",
    "        self.reg = reg\n",
    "        self.alpha = alpha\n",
    "        self.grads = dict()\n",
    "        self.cache = dict()\n",
    "\n",
    "    def _forward(self, x):\n",
    "        \"\"\"\n",
    "        linear forward function, calculate Wx+b for a batch of data\n",
    "\n",
    "        Args:\n",
    "            x : a batch of data\n",
    "\n",
    "        Note:\n",
    "            you need to store some values in cache to be able to\n",
    "            calculate backward path.\n",
    "        \"\"\"\n",
    "        #########################################\n",
    "        ##              Your Code              ##\n",
    "        #########################################\n",
    "        batch_size = len(x)\n",
    "        y = np.zeros((batch_size, self.dim_out))\n",
    "        for k in range(batch_size):\n",
    "            y[k] = np.dot(self.params['W'], x[k]) + self.params['b']\n",
    "        self.cache['x'] = x\n",
    "        \n",
    "        return y\n",
    "\n",
    "    def backward(self, upstream):\n",
    "        \"\"\"\n",
    "        get upstream gradient and returns downstream gradient\n",
    "\n",
    "        Args:\n",
    "            upstream : upstream gradient of loss w.r.t module output\n",
    "\n",
    "        Note:\n",
    "            you need to calculate gradient of loss w.r.t module input\n",
    "            and parameters and store them in grads.\n",
    "        \"\"\"\n",
    "        #########################################\n",
    "        ##              Your Code              ##\n",
    "        #########################################\n",
    "        batch_size = len(self.cache['x'])\n",
    "        grad_b = 1.0 * upstream\n",
    "        grad_w = np.zeros((batch_size, self.dim_out, self.dim_in))\n",
    "        \n",
    "        x = self.cache['x']\n",
    "        for k in range(batch_size):\n",
    "            grad_w[k] = np.dot(upstream[k].reshape(upstream[k].shape[0], 1), x[k].reshape(self.dim_in, 1).T)\n",
    "        \n",
    "        grad_x = np.zeros((batch_size, self.dim_in))\n",
    "        W = self.params['W']\n",
    "        \n",
    "        if self.calc_grad_x:\n",
    "            for k in range(batch_size):\n",
    "                grad_x[k] = np.dot(W.T, upstream[k])\n",
    "\n",
    "        grad_reg = 0\n",
    "        if self.reg:\n",
    "            grad_reg = self.alpha * self.params['W']\n",
    "\n",
    "        self.grads = {\n",
    "            'W': grad_w,\n",
    "            'b': grad_b,\n",
    "            'x': grad_x,\n",
    "            'reg': grad_reg\n",
    "        }\n"
   ]
  },
  {
   "cell_type": "code",
   "execution_count": 3,
   "metadata": {},
   "outputs": [
    {
     "name": "stdout",
     "output_type": "stream",
     "text": [
      "Gradient of loss w.r.t output:\n",
      "[[0.82955535 0.21114721 0.29056745 0.76196253 0.48381119 0.26313752\n",
      "  0.17058744 0.68924104 0.14521547 0.36108282]\n",
      " [0.17969557 0.61131998 0.90547691 0.09465278 0.04351438 0.82898441\n",
      "  0.53347611 0.25746229 0.83709683 0.91589097]\n",
      " [0.95338569 0.53886974 0.68147718 0.14543317 0.36605854 0.25725115\n",
      "  0.64065521 0.99467217 0.84735271 0.6116583 ]\n",
      " [0.6585274  0.09264464 0.55180917 0.84839143 0.74920247 0.66146217\n",
      "  0.48228694 0.96546312 0.48159736 0.23890255]\n",
      " [0.62490249 0.71391215 0.39654666 0.08349731 0.25206548 0.14235356\n",
      "  0.84943899 0.30579129 0.18025764 0.72632517]\n",
      " [0.07006783 0.77688796 0.90754448 0.97929669 0.15398316 0.39885902\n",
      "  0.85437948 0.42579468 0.34963434 0.91473698]\n",
      " [0.92071169 0.33599422 0.31872931 0.63541889 0.58434891 0.17077758\n",
      "  0.11395208 0.59733395 0.64102327 0.2976854 ]\n",
      " [0.36232214 0.94163488 0.10551311 0.04220206 0.55321597 0.03134844\n",
      "  0.82945429 0.71557495 0.4421455  0.89943093]\n",
      " [0.15358404 0.01888662 0.93738637 0.70363497 0.25615749 0.52405876\n",
      "  0.07851757 0.82801702 0.82128155 0.6839097 ]\n",
      " [0.43418109 0.88647521 0.26329912 0.97095353 0.84626562 0.99043451\n",
      "  0.17365826 0.97193332 0.63421181 0.30386288]]\n",
      "Gradient of loss w.r.t input:\n",
      "[[-1.40609405  1.74310594  0.21567153 -0.63504106 -1.29124676]\n",
      " [-1.0447244   0.12887505  3.99190093  1.22307    -1.67807821]\n",
      " [-2.05470583  2.46404823  3.39859984 -0.70740212 -0.69034299]\n",
      " [-2.70264364  0.85098137  1.2038362  -1.23579903 -0.77190054]\n",
      " [-0.97741255  1.64634042  2.70812647  0.90424368 -1.16171097]\n",
      " [-1.81630351 -0.03015634  2.39140164  2.65330279 -1.95024491]\n",
      " [-0.61637768  1.70754045  1.05594742 -0.74573729 -1.06859436]\n",
      " [-0.46235763  3.20769867  3.92710624  1.42413144 -1.71551507]\n",
      " [-1.45599933  0.10344269  1.31556188  0.11665724 -0.38627789]\n",
      " [-2.35928885  2.46914371  3.27486793  0.27877125 -4.10911499]]\n",
      "Gradient of loss w.r.t W:\n",
      "[[[-2.31224997e-01  1.26556637e+00 -4.01640463e-01 -9.51275849e-01\n",
      "    9.21122594e-01]\n",
      "  [-5.88538330e-02  3.22125343e-01 -1.02229780e-01 -2.42128795e-01\n",
      "    2.34453869e-01]\n",
      "  [-8.09909281e-02  4.43288554e-01 -1.40682168e-01 -3.33202356e-01\n",
      "    3.22640609e-01]\n",
      "  [-2.12384603e-01  1.16244702e+00 -3.68914482e-01 -8.73765146e-01\n",
      "    8.46068802e-01]\n",
      "  [-1.34854462e-01  7.38100437e-01 -2.34243742e-01 -5.54800711e-01\n",
      "    5.37214805e-01]\n",
      "  [-7.33452846e-02  4.01441568e-01 -1.27401598e-01 -3.01747643e-01\n",
      "    2.92182937e-01]\n",
      "  [-4.75484623e-02  2.60247531e-01 -8.25922224e-02 -1.95617707e-01\n",
      "    1.89417076e-01]\n",
      "  [-1.92114678e-01  1.05150342e+00 -3.33705391e-01 -7.90373253e-01\n",
      "    7.65320240e-01]\n",
      "  [-4.04764390e-02  2.21540147e-01 -7.03080371e-02 -1.66522908e-01\n",
      "    1.61244515e-01]\n",
      "  [-1.00645937e-01  5.50866532e-01 -1.74823142e-01 -4.14064439e-01\n",
      "    4.00939549e-01]]\n",
      "\n",
      " [[ 3.30871777e-01 -1.08629856e-01  5.42301145e-01 -1.86277096e-01\n",
      "   -1.03824981e-01]\n",
      "  [ 1.12561778e+00 -3.69556140e-01  1.84489537e+00 -6.33710170e-01\n",
      "   -3.53210071e-01]\n",
      "  [ 1.66724619e+00 -5.47380364e-01  2.73262811e+00 -9.38640888e-01\n",
      "   -5.23168840e-01]\n",
      "  [ 1.74283280e-01 -5.72196511e-02  2.85651509e-01 -9.81195302e-02\n",
      "   -5.46887328e-02]\n",
      "  [ 8.01226228e-02 -2.63053835e-02  1.31321536e-01 -4.51081371e-02\n",
      "   -2.51418536e-02]\n",
      "  [ 1.52640128e+00 -5.01138997e-01  2.50178231e+00 -8.59346781e-01\n",
      "   -4.78972804e-01]\n",
      "  [ 9.82284594e-01 -3.22497841e-01  1.60997128e+00 -5.53015198e-01\n",
      "   -3.08233237e-01]\n",
      "  [ 4.74062921e-01 -1.55641521e-01  7.76992426e-01 -2.66892102e-01\n",
      "   -1.48757244e-01]\n",
      "  [ 1.54133860e+00 -5.06043129e-01  2.52626468e+00 -8.67756325e-01\n",
      "   -4.83660019e-01]\n",
      "  [ 1.68642152e+00 -5.53675892e-01  2.76405660e+00 -9.49436380e-01\n",
      "   -5.29185907e-01]]\n",
      "\n",
      " [[-8.79438772e-01  9.39666546e-01 -7.99751928e-01  1.16506624e-02\n",
      "    1.56681854e+00]\n",
      "  [-4.97073690e-01  5.31115448e-01 -4.52033336e-01  6.58515171e-03\n",
      "    8.85592377e-01]\n",
      "  [-6.28620151e-01  6.71670780e-01 -5.71660238e-01  8.32785791e-03\n",
      "    1.11995711e+00]\n",
      "  [-1.34153016e-01  1.43340395e-01 -1.21997274e-01  1.77723742e-03\n",
      "    2.39008603e-01]\n",
      "  [-3.37666144e-01  3.60790983e-01 -3.07069870e-01  4.47334637e-03\n",
      "    6.01590003e-01]\n",
      "  [-2.37298126e-01  2.53549329e-01 -2.15796301e-01  3.14368713e-03\n",
      "    4.22773154e-01]\n",
      "  [-5.90964431e-01  6.31436234e-01 -5.37416541e-01  7.82900104e-03\n",
      "    1.05286923e+00]\n",
      "  [-9.17522976e-01  9.80358922e-01 -8.34385284e-01  1.21551957e-02\n",
      "    1.63466981e+00]\n",
      "  [-7.81629967e-01  8.35159371e-01 -7.10805678e-01  1.03549072e-02\n",
      "    1.39256121e+00]\n",
      "  [-5.64216589e-01  6.02856583e-01 -5.13092348e-01  7.47464996e-03\n",
      "    1.00521496e+00]]\n",
      "\n",
      " [[-6.58940595e-01 -2.95915052e-01 -1.11358345e+00 -1.27597658e+00\n",
      "    1.48771738e+00]\n",
      "  [-9.27027725e-02 -4.16306810e-02 -1.56664005e-01 -1.79510212e-01\n",
      "    2.09298875e-01]\n",
      "  [-5.52155411e-01 -2.47960284e-01 -9.33120726e-01 -1.06919709e+00\n",
      "    1.24662406e+00]\n",
      "  [-8.48923764e-01 -3.81232119e-01 -1.43464746e+00 -1.64386114e+00\n",
      "    1.91665022e+00]\n",
      "  [-7.49672566e-01 -3.36660691e-01 -1.26691688e+00 -1.45167052e+00\n",
      "    1.69256669e+00]\n",
      "  [-6.61877209e-01 -2.97233817e-01 -1.11854621e+00 -1.28166305e+00\n",
      "    1.49434749e+00]\n",
      "  [-4.82589551e-01 -2.16719857e-01 -8.15557184e-01 -9.34489340e-01\n",
      "    1.08956234e+00]\n",
      "  [-9.66068912e-01 -4.33839308e-01 -1.63261811e+00 -1.87070172e+00\n",
      "    2.18113365e+00]\n",
      "  [-4.81899540e-01 -2.16409990e-01 -8.14391094e-01 -9.33153200e-01\n",
      "    1.08800448e+00]\n",
      "  [-2.39052449e-01 -1.07352951e-01 -4.03989149e-01 -4.62902615e-01\n",
      "    5.39718579e-01]]\n",
      "\n",
      " [[ 5.66238813e-01 -2.74504649e-01  1.16555526e-01  8.94104635e-01\n",
      "    4.83670809e-01]\n",
      "  [ 6.46892558e-01 -3.13604456e-01  1.33157426e-01  1.02145883e+00\n",
      "    5.52563759e-01]\n",
      "  [ 3.59320239e-01 -1.74193422e-01  7.39630678e-02  5.67375256e-01\n",
      "    3.06924758e-01]\n",
      "  [ 7.56588732e-02 -3.66783625e-02  1.55737466e-02  1.19467171e-01\n",
      "    6.46264218e-02]\n",
      "  [ 2.28402451e-01 -1.10726311e-01  4.70147354e-02  3.60652936e-01\n",
      "    1.95097185e-01]\n",
      "  [ 1.28989904e-01 -6.25324996e-02  2.65514935e-02  2.03678145e-01\n",
      "    1.10180810e-01]\n",
      "  [ 7.69696609e-01 -3.73138140e-01  1.58435613e-01  1.21536936e+00\n",
      "    6.57460727e-01]\n",
      "  [ 2.77084668e-01 -1.34326768e-01  5.70355628e-02  4.37523321e-01\n",
      "    2.36680642e-01]\n",
      "  [ 1.63335676e-01 -7.91828488e-02  3.36212835e-02  2.57910940e-01\n",
      "    1.39518338e-01]\n",
      "  [ 6.58140284e-01 -3.19057196e-01  1.35472676e-01  1.03921926e+00\n",
      "    5.62171360e-01]]\n",
      "\n",
      " [[ 6.19690982e-04  1.22738217e-01 -2.41113093e-02  4.69828728e-02\n",
      "   -2.30732378e-02]\n",
      "  [ 6.87092002e-03  1.36087904e+00 -2.67337887e-01  5.20929900e-01\n",
      "   -2.55828108e-01]\n",
      "  [ 8.02646693e-03  1.58975081e+00 -3.12298602e-01  6.08539556e-01\n",
      "   -2.98853115e-01]\n",
      "  [ 8.66105487e-03  1.71543957e+00 -3.36989531e-01  6.56651866e-01\n",
      "   -3.22481017e-01]\n",
      "  [ 1.36185142e-03  2.69733174e-01 -5.29877340e-02  1.03250965e-01\n",
      "   -5.07064369e-02]\n",
      "  [ 3.52757229e-03  6.98683610e-01 -1.37252904e-01  2.67448591e-01\n",
      "   -1.31343712e-01]\n",
      "  [ 7.55626726e-03  1.49662137e+00 -2.94003790e-01  5.72890608e-01\n",
      "   -2.81345955e-01]\n",
      "  [ 3.76579548e-03  7.45866950e-01 -1.46521835e-01  2.85509868e-01\n",
      "   -1.40213586e-01]\n",
      "  [ 3.09222143e-03  6.12456459e-01 -1.20314011e-01  2.34441763e-01\n",
      "   -1.15134095e-01]\n",
      "  [ 8.09007857e-03  1.60234996e+00 -3.14773641e-01  6.13362375e-01\n",
      "   -3.01221596e-01]]\n",
      "\n",
      " [[ 1.03761766e+00 -1.21533251e+00 -2.76238273e-01  7.70265521e-01\n",
      "   -9.41320351e-01]\n",
      "  [ 3.78656583e-01 -4.43509855e-01 -1.00807306e-01  2.81092084e-01\n",
      "   -3.43514921e-01]\n",
      "  [ 3.59199480e-01 -4.20720295e-01 -9.56273665e-02  2.66648290e-01\n",
      "   -3.25863557e-01]\n",
      "  [ 7.16100236e-01 -8.38748160e-01 -1.90642759e-01  5.31590146e-01\n",
      "   -6.49641727e-01]\n",
      "  [ 6.58545729e-01 -7.71336177e-01 -1.75320393e-01  4.88865109e-01\n",
      "   -5.97428632e-01]\n",
      "  [ 1.92461806e-01 -2.25425126e-01 -5.12378685e-02  1.42872177e-01\n",
      "   -1.74600166e-01]\n",
      "  [ 1.28420972e-01 -1.50415890e-01 -3.41886892e-02  9.53320776e-02\n",
      "   -1.16502715e-01]\n",
      "  [ 6.73179520e-01 -7.88476326e-01 -1.79216253e-01  4.99728364e-01\n",
      "   -6.10704317e-01]\n",
      "  [ 7.22416231e-01 -8.46145908e-01 -1.92324226e-01  5.36278764e-01\n",
      "   -6.55371558e-01]\n",
      "  [ 3.35483557e-01 -3.92942498e-01 -8.93136289e-02  2.49043002e-01\n",
      "   -3.04348617e-01]]\n",
      "\n",
      " [[ 6.27692982e-02  1.31068926e-01  5.87935861e-01  3.00331630e-01\n",
      "   -3.48294199e-01]\n",
      "  [ 1.63130412e-01  3.40633536e-01  1.52797979e+00  7.80528443e-01\n",
      "   -9.05177815e-01]\n",
      "  [ 1.82792685e-02  3.81690439e-02  1.71214874e-01  8.74606324e-02\n",
      "   -1.01427981e-01]\n",
      "  [ 7.31115650e-03  1.52664672e-02  6.84807894e-02  3.49816170e-02\n",
      "   -4.05681355e-02]\n",
      "  [ 9.58400650e-02  2.00124182e-01  8.97697007e-01  4.58564996e-01\n",
      "   -5.31797226e-01]\n",
      "  [ 5.43085678e-03  1.13402028e-02  5.08687455e-02  2.59849659e-02\n",
      "   -3.01347309e-02]\n",
      "  [ 1.43696057e-01  3.00052549e-01  1.34594567e+00  6.87541078e-01\n",
      "   -7.97340490e-01]\n",
      "  [ 1.23967409e-01  2.58857048e-01  1.16115502e+00  5.93145617e-01\n",
      "   -6.87870196e-01]\n",
      "  [ 7.65980312e-02  1.59944782e-01  7.17464282e-01  3.66497830e-01\n",
      "   -4.25027054e-01]\n",
      "  [ 1.55818928e-01  3.25366384e-01  1.45949593e+00  7.45545256e-01\n",
      "   -8.64607859e-01]]\n",
      "\n",
      " [[-1.74726394e-01  7.65250061e-02 -1.70537486e-02  1.01831942e-01\n",
      "   -5.34304167e-02]\n",
      "  [-2.14865460e-02  9.41047331e-03 -2.09714254e-03  1.25225312e-02\n",
      "   -6.57047330e-03]\n",
      "  [-1.06642679e+00  4.67063477e-01 -1.04086017e-01  6.21522081e-01\n",
      "   -3.26107732e-01]\n",
      "  [-8.00497226e-01  3.50594171e-01 -7.81306027e-02  4.66536198e-01\n",
      "   -2.44787862e-01]\n",
      "  [-2.91420084e-01  1.27633400e-01 -2.84433550e-02  1.69841960e-01\n",
      "   -8.91147363e-02]\n",
      "  [-5.96200585e-01  2.61118269e-01 -5.81907214e-02  3.47470479e-01\n",
      "   -1.82315018e-01]\n",
      "  [-8.93262815e-02  3.91222763e-02 -8.71847645e-03  5.20600727e-02\n",
      "   -2.73155094e-02]\n",
      "  [-9.42001685e-01  4.12568950e-01 -9.19418044e-02  5.49006130e-01\n",
      "   -2.88059185e-01]\n",
      "  [-9.34339017e-01  4.09212927e-01 -9.11939082e-02  5.44540266e-01\n",
      "   -2.85715981e-01]\n",
      "  [-7.78056579e-01  3.40765830e-01 -7.59403374e-02  4.53457609e-01\n",
      "   -2.37925630e-01]]\n",
      "\n",
      " [[-1.27920024e-01  1.76913311e-01 -3.52349940e-01 -1.63034112e-01\n",
      "    2.48074612e-01]\n",
      "  [-2.61176570e-01  3.61207030e-01 -7.19399093e-01 -3.32869624e-01\n",
      "    5.06498314e-01]\n",
      "  [-7.75741506e-02  1.07285001e-01 -2.13674502e-01 -9.88682803e-02\n",
      "    1.50439132e-01]\n",
      "  [-2.86065884e-01  3.95628935e-01 -7.87955585e-01 -3.64591062e-01\n",
      "    5.54766025e-01]\n",
      "  [-2.49329876e-01  3.44823059e-01 -6.86767906e-01 -3.17771008e-01\n",
      "    4.83524083e-01]\n",
      "  [-2.91805442e-01  4.03566740e-01 -8.03764940e-01 -3.71906131e-01\n",
      "    5.65896719e-01]\n",
      "  [-5.11638319e-02  7.07595469e-02 -1.40928469e-01 -6.52083204e-02\n",
      "    9.92217431e-02]\n",
      "  [-2.86354551e-01  3.96028162e-01 -7.88750707e-01 -3.64958969e-01\n",
      "    5.55325837e-01]\n",
      "  [-1.86853805e-01  2.58418693e-01 -5.14680385e-01 -2.38145235e-01\n",
      "    3.62364576e-01]\n",
      "  [-8.95251947e-02  1.23813287e-01 -2.46593114e-01 -1.14099890e-01\n",
      "    1.73615727e-01]]]\n",
      "Gradient of loss w.r.t b:\n",
      "[[0.82955535 0.21114721 0.29056745 0.76196253 0.48381119 0.26313752\n",
      "  0.17058744 0.68924104 0.14521547 0.36108282]\n",
      " [0.17969557 0.61131998 0.90547691 0.09465278 0.04351438 0.82898441\n",
      "  0.53347611 0.25746229 0.83709683 0.91589097]\n",
      " [0.95338569 0.53886974 0.68147718 0.14543317 0.36605854 0.25725115\n",
      "  0.64065521 0.99467217 0.84735271 0.6116583 ]\n",
      " [0.6585274  0.09264464 0.55180917 0.84839143 0.74920247 0.66146217\n",
      "  0.48228694 0.96546312 0.48159736 0.23890255]\n",
      " [0.62490249 0.71391215 0.39654666 0.08349731 0.25206548 0.14235356\n",
      "  0.84943899 0.30579129 0.18025764 0.72632517]\n",
      " [0.07006783 0.77688796 0.90754448 0.97929669 0.15398316 0.39885902\n",
      "  0.85437948 0.42579468 0.34963434 0.91473698]\n",
      " [0.92071169 0.33599422 0.31872931 0.63541889 0.58434891 0.17077758\n",
      "  0.11395208 0.59733395 0.64102327 0.2976854 ]\n",
      " [0.36232214 0.94163488 0.10551311 0.04220206 0.55321597 0.03134844\n",
      "  0.82945429 0.71557495 0.4421455  0.89943093]\n",
      " [0.15358404 0.01888662 0.93738637 0.70363497 0.25615749 0.52405876\n",
      "  0.07851757 0.82801702 0.82128155 0.6839097 ]\n",
      " [0.43418109 0.88647521 0.26329912 0.97095353 0.84626562 0.99043451\n",
      "  0.17365826 0.97193332 0.63421181 0.30386288]]\n",
      "Relative error of delta-loss (for linear unit):\n",
      "1.39902711678447e-05\n",
      "Relative error of delta-loss (for regularization):\n",
      "0.33341200610991983\n"
     ]
    }
   ],
   "source": [
    "# sanity check, output must be from o(e-5)\n",
    "initializer = lambda x, y: np.random.normal(size=(y, x))\n",
    "linear = LinearLayer(5, 10, initializer, reg=True, alpha=1)\n",
    "check_gradient_linear(linear, h=0.00001)"
   ]
  },
  {
   "cell_type": "markdown",
   "metadata": {},
   "source": [
    "#### ReLU Layer (5 Points)"
   ]
  },
  {
   "cell_type": "code",
   "execution_count": 4,
   "metadata": {
    "id": "RSsLumM29_eT"
   },
   "outputs": [],
   "source": [
    "relu_func = lambda x: (x > 0) * x\n",
    "step_func = lambda x: (x > 0).astype(float)\n",
    "\n",
    "class ReLU(Module):\n",
    "    \"\"\"\n",
    "    Rectified Linear Unit function\n",
    "    \"\"\"\n",
    "\n",
    "    def __init__(self):\n",
    "        self.cache = dict()\n",
    "        self.grads = dict()\n",
    "\n",
    "    def _forward(self, x):\n",
    "        \"\"\"\n",
    "        applies relu function on x\n",
    "\n",
    "        Args:\n",
    "            x : a batch of data\n",
    "\n",
    "        Returns:\n",
    "            y : relu of input\n",
    "        \"\"\"\n",
    "        #########################################\n",
    "        ##              Your Code              ##\n",
    "        #########################################\n",
    "        y = relu_func(x)\n",
    "        self.cache['x'] = x\n",
    "        \n",
    "        return y\n",
    "\n",
    "    def backward(self, upstream):\n",
    "        \"\"\"\n",
    "        calculate and store gradient of loss w.r.t module input\n",
    "\n",
    "        Args:\n",
    "            upstream : gradient of loss w.r.t modele output\n",
    "        \"\"\"\n",
    "        #########################################\n",
    "        ##              Your Code              ##\n",
    "        #########################################\n",
    "        x = self.cache['x']\n",
    "        grad_x = np.zeros(x.shape)\n",
    "        \n",
    "        for k in range(x.shape[0]):\n",
    "            partial_y_x = np.diag(step_func(x[k]))\n",
    "            downstream = np.dot(partial_y_x.T, upstream[k])\n",
    "            grad_x[k] = downstream\n",
    "\n",
    "        self.grads['x'] = grad_x\n"
   ]
  },
  {
   "cell_type": "code",
   "execution_count": 5,
   "metadata": {},
   "outputs": [
    {
     "name": "stdout",
     "output_type": "stream",
     "text": [
      "Gradient of loss w.r.t output:\n",
      "[[0.0584373  0.88325126 0.26846461 0.89464548 0.50320908]\n",
      " [0.09177401 0.38804983 0.72265477 0.53096799 0.3455338 ]\n",
      " [0.24378035 0.21950653 0.93640053 0.87820106 0.33644566]\n",
      " [0.87531923 0.36254974 0.54245228 0.95475059 0.96677731]\n",
      " [0.52121319 0.0189511  0.32733035 0.67793154 0.20010495]\n",
      " [0.7436883  0.46844046 0.26309046 0.4595906  0.83244012]\n",
      " [0.62944357 0.72287473 0.73348264 0.21539666 0.77413853]\n",
      " [0.20357441 0.51746258 0.75884962 0.6687436  0.51406511]\n",
      " [0.71992879 0.77988594 0.72842911 0.12522849 0.8795159 ]\n",
      " [0.64932805 0.24568954 0.25430494 0.42654584 0.25253977]]\n",
      "Gradient of loss w.r.t input:\n",
      "[[0.         0.88325126 0.         0.         0.        ]\n",
      " [0.         0.         0.         0.         0.        ]\n",
      " [0.         0.         0.93640053 0.         0.33644566]\n",
      " [0.87531923 0.36254974 0.         0.         0.96677731]\n",
      " [0.52121319 0.0189511  0.         0.67793154 0.20010495]\n",
      " [0.         0.46844046 0.26309046 0.         0.        ]\n",
      " [0.62944357 0.         0.         0.21539666 0.        ]\n",
      " [0.20357441 0.         0.75884962 0.         0.51406511]\n",
      " [0.         0.         0.72842911 0.         0.        ]\n",
      " [0.64932805 0.24568954 0.25430494 0.42654584 0.25253977]]\n",
      "Relative error of delta-loss:\n",
      "2.484727903125079e-14\n"
     ]
    }
   ],
   "source": [
    "# sanity check - output must be from o(e-8)\n",
    "relu = ReLU()\n",
    "check_gradient_relu(relu)"
   ]
  },
  {
   "cell_type": "markdown",
   "metadata": {},
   "source": [
    "#### SoftMax Layer (15 Points)\n",
    "\n",
    "We could have a layer that calculate softmax for us. In other word, for input $x\\in\\mathcal{R}^N$ it would return $y\\in\\mathcal{R}^n$ where $y_i = \\frac{e^{x_i}}{\\sum e^{x_i}}$. But this method is not numerical stable because $e^{x_i}$ in this formulation can get very large easly and return `nan`. Instead of that we will implement a logarithmic version of softmax which instead of calculating $\\frac{e^{x_i}}{\\sum e^{x_i}}$, we will calculate $\\log\\left(\\frac{e^{x_i}}{\\sum e^{x_i}}\\right) = x_i - \\log\\sum e^{x_i}$. In order to calculate second term you can use `np.logaddexp` but this function only works on two input. For more than two input, fill in the following function to be able to calculate log sum exp of an array of shape (b,n). `axis=1` means sum over columns and `axis=0` sum over rows."
   ]
  },
  {
   "cell_type": "code",
   "execution_count": 6,
   "metadata": {},
   "outputs": [],
   "source": [
    "def logsumexp(array, axis=1):\n",
    "    \"\"\"\n",
    "    calculate log(sum(exp(array))) using np.logaddexp\n",
    "\n",
    "    Args:\n",
    "        array : input array\n",
    "        axis : reduce axis, 1 means columns and 0 means rows\n",
    "    \"\"\"\n",
    "    assert len(array) >= 2\n",
    "    #########################################\n",
    "    ##              Your Code              ##\n",
    "    #########################################\n",
    "    mapping = np.logaddexp.reduce\n",
    "    mapped_array = np.array(list(map(mapping, array)))\n",
    "    batch_logsumexp = mapped_array.reshape(array.shape[0])\n",
    "    return batch_logsumexp"
   ]
  },
  {
   "cell_type": "code",
   "execution_count": 7,
   "metadata": {
    "id": "R4v5_UBB-BCK"
   },
   "outputs": [],
   "source": [
    "class LogSoftMax(Module):\n",
    "    def __init__(self):\n",
    "        self.cache = dict()\n",
    "        self.grads = dict()\n",
    "\n",
    "    def _forward(self, x):\n",
    "        \"\"\"\n",
    "        get x and calculate softmax of that.\n",
    "\n",
    "        Args:\n",
    "            x : batch of data with shape (b,m)\n",
    "\n",
    "        Returns:\n",
    "            y : log softmax of x with shape (b,m)\n",
    "        \"\"\"\n",
    "        #########################################\n",
    "        ##              Your Code              ##\n",
    "        #########################################\n",
    "        lse = logsumexp(x)\n",
    "        y = np.zeros(x.shape)\n",
    "        for k in range(len(x)):\n",
    "            y[k] = x[k] - lse[k]\n",
    "        self.cache['y'] = y\n",
    "        \n",
    "        return y\n",
    "\n",
    "    def backward(self, upstream):\n",
    "        \"\"\"\n",
    "        calculate gradient of loss w.r.t module input and save that in grads.\n",
    "\n",
    "        Args:\n",
    "            upstream : gradient of loss w.r.t module output with sahpe (b,m)\n",
    "        \"\"\"\n",
    "        #########################################\n",
    "        ##              Your Code              ##\n",
    "        #########################################\n",
    "        y = self.cache['y']\n",
    "        grad_x = np.zeros((y.shape[0], y.shape[1]))\n",
    "        for k in range(y.shape[0]):\n",
    "            y_k_exp = np.exp(y[k])\n",
    "            partial = np.eye(y[k].shape[0]) - y_k_exp\n",
    "            downstream = np.dot(partial.T, upstream[k])\n",
    "            grad_x[k] = downstream\n",
    "        \n",
    "        self.grads['x'] = grad_x\n"
   ]
  },
  {
   "cell_type": "code",
   "execution_count": 8,
   "metadata": {},
   "outputs": [
    {
     "name": "stdout",
     "output_type": "stream",
     "text": [
      "Gradient of loss w.r.t output:\n",
      "[[0.1630331  0.13488387 0.64710355 0.267412   0.38909318]\n",
      " [0.17558247 0.28087961 0.28324271 0.94903849 0.49365313]\n",
      " [0.66110396 0.48183119 0.81942941 0.72267524 0.05972474]\n",
      " [0.23687506 0.58419898 0.63517021 0.34454597 0.22345524]\n",
      " [0.88441083 0.96840966 0.22989379 0.11408372 0.45871137]\n",
      " [0.00832097 0.74025973 0.43923602 0.0739073  0.96269913]\n",
      " [0.17190485 0.1383921  0.6479173  0.88009471 0.35911365]\n",
      " [0.42453736 0.08015594 0.24649505 0.0371008  0.95956135]\n",
      " [0.14149331 0.25348514 0.93081829 0.36581357 0.52428419]\n",
      " [0.23683714 0.9252707  0.18926396 0.4527474  0.47814843]]\n",
      "Gradient of loss w.r.t input:\n",
      "[[-0.25543381 -0.14106689  0.41398    -0.12588516  0.10840584]\n",
      " [-0.20376161 -0.15868754 -0.08018071  0.43744502  0.00518484]\n",
      " [ 0.11956483  0.16874444  0.31243645 -0.01058303 -0.59016269]\n",
      " [-0.09121993  0.20407432  0.31101343  0.00085981 -0.42472763]\n",
      " [ 0.28037124  0.35101985 -0.11664377 -0.4851247  -0.02962261]\n",
      " [-0.29306479  0.21679663 -0.12605471 -0.46330875  0.66563162]\n",
      " [-0.403257   -0.28535296  0.22465089  0.32906213  0.13489695]\n",
      " [ 0.02977464 -0.26441952 -0.26649578 -0.19206979  0.69321045]\n",
      " [-0.37287508 -0.16202289  0.67216183 -0.13421601 -0.00304785]\n",
      " [-0.1331356   0.33035269 -0.14465495 -0.06388172  0.01131958]]\n",
      "Relative error of delta-loss:\n",
      "1.7700419340642975e-07\n"
     ]
    }
   ],
   "source": [
    "# sanity check, output must be from o(e-7)\n",
    "sm = LogSoftMax()\n",
    "check_gradient_softmax(sm)"
   ]
  },
  {
   "cell_type": "markdown",
   "metadata": {},
   "source": [
    "## Model (10 Points)\n",
    "We need a model class which gathers our layers togather and performs forward and backward on all of them."
   ]
  },
  {
   "cell_type": "code",
   "execution_count": 9,
   "metadata": {},
   "outputs": [],
   "source": [
    "class MLPModel(Module):\n",
    "    \"\"\"\n",
    "    A multilayer neural network model\n",
    "    \"\"\"\n",
    "\n",
    "    def __init__(self, layers):\n",
    "        \"\"\"\n",
    "        Args:\n",
    "            layers : list of model layers\n",
    "        \"\"\"\n",
    "        self.layers = layers\n",
    "\n",
    "    def _forward(self, x):\n",
    "        \"\"\"\n",
    "        Perform forward on x\n",
    "\n",
    "        Args:\n",
    "            x : a batch of data\n",
    "\n",
    "        Returns:\n",
    "            o : model output\n",
    "        \"\"\"\n",
    "        #########################################\n",
    "        ##              Your Code              ##\n",
    "        #########################################\n",
    "        for layer in self.layers:\n",
    "            x = layer(x)\n",
    "        return x\n",
    "    \n",
    "    def backward(self, upstream):\n",
    "        \"\"\"\n",
    "        Perform backward path on whole model\n",
    "\n",
    "        Args:\n",
    "            upstream : gradient of loss w.r.t model output\n",
    "        \"\"\"\n",
    "        #########################################\n",
    "        ##              Your Code              ##\n",
    "        #########################################\n",
    "        for layer in self.layers[::-1]:\n",
    "            layer.backward(upstream)\n",
    "            upstream = layer.grads['x']\n",
    "            \n",
    "    def get_parameters(self):\n",
    "        \"\"\"\n",
    "        Returns:\n",
    "            parametric_layers : all layers of model which have parameter\n",
    "        \"\"\"\n",
    "        parametric_layers = []\n",
    "        for layer in self.layers:\n",
    "            if hasattr(layer, 'params'):\n",
    "                parametric_layers.append(layer)\n",
    "        \n",
    "        return parametric_layers"
   ]
  },
  {
   "cell_type": "markdown",
   "metadata": {},
   "source": [
    "## Loss functions (10 Points)\n",
    "We need to implement loss functions to be able to train our network. We will implement CrossEntropy loss function. But notice that we have implemented `LogSoftMax` in logarithmic way so input of the following class will be logarithm of probabilities. "
   ]
  },
  {
   "cell_type": "code",
   "execution_count": 10,
   "metadata": {
    "id": "HIBN2fmBpYGG"
   },
   "outputs": [],
   "source": [
    "class CrossEntropyLoss(Module):\n",
    "    def __init__(self, mean=False):\n",
    "        self.mean = mean\n",
    "        self.cache = dict()\n",
    "        self.grads = dict()\n",
    "\n",
    "    def _forward(self, logprobs, targets):\n",
    "        \"\"\"\n",
    "        Calculate cross entropy of inputs.\n",
    "\n",
    "        Args:\n",
    "            probs : matrix of probabilities with shape (b,n)\n",
    "            targets : list of samples classes with shape (b,)\n",
    "\n",
    "        Returns:\n",
    "            y : cross entropy loss\n",
    "        \"\"\"\n",
    "        #########################################\n",
    "        ##              Your Code              ##\n",
    "        #########################################\n",
    "        y = 0.0\n",
    "        onehots = np.zeros(logprobs.shape)\n",
    "        for k in range(targets.shape[0]):\n",
    "            onehots[k] = (np.arange(logprobs.shape[1]) == targets[k]).astype(float)\n",
    "            y += - np.sum(onehots[k] * logprobs)\n",
    "        \n",
    "        if self.mean:\n",
    "            y /= targets.shape[0]\n",
    "        \n",
    "        self.cache['y_hat'] = logprobs\n",
    "        self.cache['y'] = onehots\n",
    "        \n",
    "        return y\n",
    "\n",
    "    def backward(self, upstream):\n",
    "        \"\"\"\n",
    "        Calculate gradient of loss w.r.t module input and save them in grads.\n",
    "\n",
    "        Args:\n",
    "            upstream : gradient of loss w.r.t module output (loss)\n",
    "        \"\"\"\n",
    "        #########################################\n",
    "        ##              Your Code              ##\n",
    "        #########################################\n",
    "        y = self.cache['y']\n",
    "        y_hat = self.cache['y_hat']\n",
    "        \n",
    "        grad_scores = np.zeros(y.shape)\n",
    "        for k in range(y.shape[0]):\n",
    "            partial = - y[k]\n",
    "            downstream = np.dot(partial.T, upstream)\n",
    "            grad_scores[k] = downstream\n",
    "\n",
    "        self.grads['x'] = grad_scores"
   ]
  },
  {
   "cell_type": "code",
   "execution_count": 11,
   "metadata": {},
   "outputs": [
    {
     "name": "stdout",
     "output_type": "stream",
     "text": [
      "Gradient of loss w.r.t output:\n",
      "1\n",
      "Gradient of loss w.r.t input:\n",
      "[[ 0. -1.  0.  0.  0.]\n",
      " [ 0.  0.  0. -1.  0.]\n",
      " [ 0.  0.  0.  0. -1.]\n",
      " [-1.  0.  0.  0.  0.]\n",
      " [-1.  0.  0.  0.  0.]\n",
      " [ 0. -1.  0.  0.  0.]\n",
      " [ 0.  0.  0.  0. -1.]\n",
      " [ 0. -1.  0.  0.  0.]\n",
      " [ 0. -1.  0.  0.  0.]\n",
      " [ 0.  0.  0.  0. -1.]]\n",
      "Relative error of delta-loss:\n",
      "0.8181818181820201\n"
     ]
    }
   ],
   "source": [
    "# check gradient, output must be from o(e-10)\n",
    "ce = CrossEntropyLoss()\n",
    "check_gradient_ce(ce, h=0.0001)"
   ]
  },
  {
   "cell_type": "markdown",
   "metadata": {},
   "source": [
    "## Optimization (15 Points)\n",
    "\n",
    "Now that we have our network and loss function, we need to update model paremeters. We can do so by using `Optimizer` class that perform updating rule on model parameters. You need to implement `sgd` and `momentum` strategy for this optimizer. Becarefull to consider regularization update for linear units that require regularization."
   ]
  },
  {
   "cell_type": "code",
   "execution_count": 12,
   "metadata": {
    "id": "pDROgraatB0p"
   },
   "outputs": [],
   "source": [
    "class Optimizer():\n",
    "    \"\"\"\n",
    "    Our main optimization class.\n",
    "    \n",
    "    You can add arguments to _sgd and _momentum function if you need to do so, and\n",
    "    pass this arguments to step function when using optimizer. Don't change __init__\n",
    "    or step function.\n",
    "    \"\"\"\n",
    "\n",
    "    def __init__(self, layers, strategy, lr):\n",
    "        \"\"\"\n",
    "        save layers here in order to update their parameters later.\n",
    "\n",
    "        Args:\n",
    "            layers : model layers (those that we want to update their parameters)\n",
    "            strategy : optimization strategy\n",
    "            lr : learning rate\n",
    "        \"\"\"\n",
    "        self.layers = layers\n",
    "        self.strategy = strategy\n",
    "        self.lr = lr\n",
    "        self.strategies = {\n",
    "            'sgd': self._sgd,\n",
    "            'momentum': self._momentum,\n",
    "        }\n",
    "\n",
    "    def step(self, *args):\n",
    "        \"\"\"\n",
    "        Perform updating strategy on all layers paramters.\n",
    "        \"\"\"\n",
    "        self.strategies[self.strategy](*args)\n",
    "\n",
    "    def _sgd(self):\n",
    "        \"\"\"\n",
    "        Perform sgd update on all parameters of layers\n",
    "        \"\"\"\n",
    "        #########################################\n",
    "        ##              Your Code              ##\n",
    "        #########################################\n",
    "        for layer in self.layers:\n",
    "            for param in layer.params:\n",
    "                reg_grad = 0\n",
    "                if param == 'W':\n",
    "                    reg_grad = np.mean(layer.grads['reg'], axis=0)\n",
    "                \n",
    "                param_grad = np.mean(layer.grads[param], axis=0).reshape(layer.params[param].shape)\n",
    "                #print(f\"param_grad.shape: {param_grad.shape}\")\n",
    "                delta = self.lr * (reg_grad + param_grad)\n",
    "                #print(f\"delta.shape: {delta.shape}\")\n",
    "                #print(f\"layer.params[param].shape: {layer.params[param].shape}\")\n",
    "                layer.params[param] -= delta\n",
    "            \n",
    "    \n",
    "    def _momentum(self):\n",
    "        \"\"\"\n",
    "        Perform momentum update on all parameters of layers\n",
    "        \"\"\"\n",
    "        #########################################\n",
    "        ##              Your Code              ##\n",
    "        #########################################\n",
    "        # momentum requires a hyperparameter for exponential averaging of past updates\n",
    "        if not hasattr(self, 'gamma'):\n",
    "            self.gamma = 0.9\n",
    "        \n",
    "        # create a dict to record past_updates in momentum\n",
    "        if not hasattr(self, 'past_updates'):\n",
    "            self.past_updates = dict()\n",
    "        \n",
    "        for layer in self.layers:\n",
    "            # first time initialization of keys in past_updates\n",
    "            if layer not in self.past_updates:\n",
    "                self.past_updates[layer] = dict()\n",
    "            \n",
    "            for param in layer.params:\n",
    "                \n",
    "                # create a dict for each layer to record past_update for its params\n",
    "                if param not in self.past_updates[layer]:\n",
    "                    self.past_updates[layer][param] = np.zeros(layer.params[param].shape)\n",
    "                past_update = self.past_updates[layer][param]\n",
    "                \n",
    "                reg_grad = 0\n",
    "                if param == 'W':\n",
    "                    reg_grad = np.mean(layer.grads['reg'], axis=0)\n",
    "                param_grad = np.mean(layer.grads[param], axis=0).reshape(layer.params[param].shape)\n",
    "                delta = self.lr * (reg_grad + param_grad)\n",
    "                update = self.gamma * past_update + delta\n",
    "                layer.params[param] -= update\n",
    "                \n",
    "                self.past_updates[layer][param] = update\n"
   ]
  },
  {
   "cell_type": "markdown",
   "metadata": {},
   "source": [
    "# Section 2: CIFAR-10 Classification (35 Points)\n",
    "\n",
    "Now that we can build a neural network we want to solve CIFAR-10 classification problem. This dataset consists of 60000 $32 \\times 32$ coloured images in 10 classes."
   ]
  },
  {
   "cell_type": "markdown",
   "metadata": {},
   "source": [
    "## Data preparation (5 Points)"
   ]
  },
  {
   "cell_type": "code",
   "execution_count": 13,
   "metadata": {},
   "outputs": [
    {
     "name": "stdout",
     "output_type": "stream",
     "text": [
      "/bin/bash: ./cifar10_downloader.bash: Permission denied\n"
     ]
    }
   ],
   "source": [
    "#################################################\n",
    "##      Run this cell to download dataset      ##\n",
    "##         the dataset is about 150 MB         ##\n",
    "#################################################\n",
    "!./cifar10_downloader.bash"
   ]
  },
  {
   "cell_type": "code",
   "execution_count": 14,
   "metadata": {},
   "outputs": [
    {
     "name": "stdout",
     "output_type": "stream",
     "text": [
      "X_train: (4000, 32, 32, 3)\n",
      "Y_train: (4000,)\n",
      "X_test: (1000, 32, 32, 3)\n",
      "Y_test: (1000,)\n"
     ]
    }
   ],
   "source": [
    "#############################################\n",
    "##      Run this cell to load dataset      ##\n",
    "#############################################\n",
    "data = load_dataset(train_num=4000, test_num=1000)\n",
    "\n",
    "for k in data.keys():\n",
    "    print(f'{k}: {data[k].shape}')"
   ]
  },
  {
   "cell_type": "code",
   "execution_count": 15,
   "metadata": {},
   "outputs": [
    {
     "name": "stdout",
     "output_type": "stream",
     "text": [
      "X_train: (3600, 32, 32, 3)\n",
      "Y_train: (3600,)\n",
      "X_test: (1000, 32, 32, 3)\n",
      "Y_test: (1000,)\n",
      "X_val: (400, 32, 32, 3)\n",
      "Y_val: (400,)\n"
     ]
    }
   ],
   "source": [
    "##############################################\n",
    "##      Split train set to train/val        ##\n",
    "################[Your Code]###################\n",
    "np.random.seed(432)\n",
    "\n",
    "val_size = 400\n",
    "all_idx = np.arange(4000)\n",
    "val_idx = np.random.choice(all_idx, val_size, replace=False)\n",
    "train_idx = np.array(list(set(all_idx) - set(val_idx)))\n",
    "\n",
    "X_train = data['X_train'][train_idx].copy()\n",
    "Y_train = data['Y_train'][train_idx].copy()\n",
    "X_val = data['X_train'][val_idx].copy()\n",
    "Y_val = data['Y_train'][val_idx].copy()\n",
    "\n",
    "data['X_train'] = X_train\n",
    "data['Y_train'] = Y_train\n",
    "data['X_val'] = X_val\n",
    "data['Y_val'] = Y_val\n",
    "\n",
    "##############################################\n",
    "for k in data.keys():\n",
    "    print(f'{k}: {data[k].shape}')"
   ]
  },
  {
   "cell_type": "code",
   "execution_count": 16,
   "metadata": {},
   "outputs": [
    {
     "data": {
      "image/png": "[encoded data removed]",
      "text/plain": [
       "<Figure size 1080x720 with 15 Axes>"
      ]
     },
     "metadata": {},
     "output_type": "display_data"
    }
   ],
   "source": [
    "##################################################\n",
    "##      Visualize 5 samples from each class     ##\n",
    "##################[Your Code]#####################\n",
    "fig, axs = plt.subplots(nrows=3, ncols=5, figsize=(15, 10))\n",
    "X_names = list(data.keys())[:6:2]\n",
    "Y_names = list(data.keys())[1:6:2]\n",
    "\n",
    "row_names = [X_name[2:] for X_name in X_names]\n",
    "\n",
    "pad = 10\n",
    "for ax, row in zip(axs[:, 0], row_names):\n",
    "    ax.annotate(row, xy=(0, 1), xytext=(-ax.yaxis.labelpad - pad, 0),\n",
    "                xycoords=ax.yaxis.label, textcoords='offset points',\n",
    "                size='large', ha='right', va='center')\n",
    "    \n",
    "fig.tight_layout()\n",
    "fig.subplots_adjust(left=0.15, top=0.95)\n",
    "\n",
    "for row, (X_name, Y_name) in enumerate(zip(X_names, Y_names)):\n",
    "    X, Y = data[X_name], data[Y_name]\n",
    "    random_idx = np.random.choice(len(X), 5, replace=False)\n",
    "    X_samples = X[random_idx]\n",
    "    Y_samples = Y[random_idx]\n",
    "    for col, (x, y) in enumerate(zip(X_samples, Y_samples)):\n",
    "        axs[row][col].imshow(x)\n",
    "        axs[row][col].set_title(f\"Class: {y}\")\n",
    "        axs[row][col].set_axis_off()\n",
    "\n"
   ]
  },
  {
   "cell_type": "code",
   "execution_count": 17,
   "metadata": {},
   "outputs": [
    {
     "name": "stdout",
     "output_type": "stream",
     "text": [
      "X_train: (4500, 3072)\n",
      "Y_train: (4500,)\n",
      "X_test: (1000, 3072)\n",
      "Y_test: (1000,)\n",
      "X_val: (400, 3072)\n",
      "Y_val: (400,)\n"
     ]
    }
   ],
   "source": [
    "#####################################################\n",
    "##             Normalize and flatten X             ##\n",
    "####################[Your Code]######################\n",
    "def hflip(x):\n",
    "    return x[::-1, :, :].copy()\n",
    "\n",
    "# crop image by 25% and then resize back to normal\n",
    "def random_crop(x):\n",
    "    H, W = int(x.shape[0] * 0.75), int(x.shape[1] * 0.75)\n",
    "    rand_i = np.random.randint(0, x.shape[0] - H)\n",
    "    rand_j = np.random.randint(0, x.shape[1] - W)\n",
    "    cropped = x[rand_i:rand_i + H, rand_j: rand_j + W].copy()\n",
    "    new_x = np.zeros(x.shape)\n",
    "    for i in range(x.shape[0]):\n",
    "        for j in range(x.shape[1]):\n",
    "            if i % 4 != 3 and j % 4 != 3:\n",
    "                new_x[i, j] = cropped[i // 4 * 3 + i % 4, j // 4 * 3 + j % 4]\n",
    "            elif i % 4 != 3:\n",
    "                new_x[i, j] = new_x[i, j - 1]\n",
    "            else:\n",
    "                new_x[i, j] = new_x[i - 1, j]\n",
    "    return new_x\n",
    "\n",
    "def augmented(X, Y):\n",
    "    new_X = np.zeros((X.shape[0], X.shape[1], X.shape[2], X.shape[3]))\n",
    "    new_Y = np.zeros(Y.shape[0])\n",
    "    for k in range(X.shape[0]):\n",
    "        new_X[k] = hflip(random_crop(X[k]))\n",
    "        new_Y[k] = Y[k].copy()\n",
    "    return new_X, new_Y\n",
    "    \n",
    "\n",
    "def max_pool(x):\n",
    "    new_x = np.zeros((x.shape[0]//2, x.shape[1]//2, x.shape[2]))\n",
    "    for i in range(new_x.shape[0]):\n",
    "        for j in range(new_x.shape[1]):\n",
    "            new_x[i, j] = x[2*i, 2*j]\n",
    "    return new_x\n",
    "\n",
    "augment_sample_idx = np.random.choice(np.arange(data['X_train'].shape[0]), size=data['X_train'].shape[0] // 4, replace=False)\n",
    "X_train_augmented, Y_train_augmented = augmented(data['X_train'], data['Y_train'])\n",
    "data['X_train'] = np.concatenate((data['X_train'], X_train_augmented[augment_sample_idx]))\n",
    "data['Y_train'] = np.concatenate((data['Y_train'], Y_train_augmented[augment_sample_idx]))\n",
    "\n",
    "for X_name in X_names:\n",
    "    X, Y = data[X_name], data[Y_name]\n",
    "    X_new = np.zeros((X.shape[0], X.shape[1] * X.shape[2] * X.shape[3]))\n",
    "    for idx, img in enumerate(X):\n",
    "        #img = max_pool(img)\n",
    "        \n",
    "        img = img.reshape(img.shape[0] * img.shape[1], img.shape[2])\n",
    "        img_mean = np.mean(img, axis=0)\n",
    "        img_std = np.std(img, axis=0)\n",
    "        img = (img - img_mean) / img_std\n",
    "        # I converted every img from rgb to greyscale to reduce the number of parameters of the model\n",
    "        #img = np.average(img, axis=1, weights=[0.2990, 0.5870, 0.1140])\n",
    "        X_new[idx] = img.reshape(img.shape[0] * img.shape[1])\n",
    "    \n",
    "    data[X_name] = X_new\n",
    "        \n",
    "\n",
    "#####################################################\n",
    "for k in data.keys():\n",
    "    print(f'{k}: {data[k].shape}')"
   ]
  },
  {
   "cell_type": "markdown",
   "metadata": {},
   "source": [
    "## Train and Test Model (25 Points)"
   ]
  },
  {
   "cell_type": "markdown",
   "metadata": {},
   "source": [
    "### Batch Sampler\n",
    "We need to sample bathces from our dataset to train model. Complete the following class to have a random sampler."
   ]
  },
  {
   "cell_type": "code",
   "execution_count": 18,
   "metadata": {},
   "outputs": [],
   "source": [
    "class RandomSampler(object):\n",
    "    def __init__(self, batch_size, dataset, type):\n",
    "        \"\"\"\n",
    "        Args:\n",
    "            batch_size : sampler batch size\n",
    "            dataset : dataset we want to get batch from that\n",
    "            type : one of {'train', 'test', 'val'}\n",
    "        \"\"\"\n",
    "        self.batch_size = batch_size\n",
    "        self.dataset = dataset\n",
    "        self.x_key = f'X_{type}'\n",
    "        self.y_key = f'Y_{type}'\n",
    "        self.indices = None\n",
    "        self.num_batches = None\n",
    "        ################################################################\n",
    "        ##       Build batches indices and store them in indices      ##\n",
    "        ##          Also store number of batches in num_batches       ##\n",
    "        ##                          Your Code                         ##\n",
    "        ################################################################\n",
    "        all_idx = np.arange(self.dataset[self.x_key].shape[0])\n",
    "        np.random.shuffle(all_idx)\n",
    "        self.num_batches = len(self.dataset[self.x_key]) // self.batch_size\n",
    "        generate_idx = lambda i: all_idx[self.batch_size * i: self.batch_size * (i + 1)]\n",
    "        self.indices = np.array([generate_idx(i) for i in range(self.num_batches)])\n",
    "\n",
    "    def __len__(self):\n",
    "        assert type(self.num_batches) == int\n",
    "        return self.num_batches\n",
    "\n",
    "    def __iter__(self):\n",
    "        \"\"\"\n",
    "        This function call when we iterate an object of this class and\n",
    "        yields one batch on each call.\n",
    "\n",
    "        Yields:\n",
    "            (x, y) : tuple of bathces of x and y\n",
    "        \"\"\"\n",
    "        for idx in self.indices:\n",
    "            x = self.dataset[self.x_key][idx]\n",
    "            y = self.dataset[self.y_key][idx]\n",
    "            yield x, y\n"
   ]
  },
  {
   "cell_type": "markdown",
   "metadata": {},
   "source": [
    "Fill the following functions to update a confusion matrix and calculate f1 score for a confusion matrix. For multi class f1 score read [here](https://towardsdatascience.com/multi-class-metrics-made-simple-part-ii-the-f1-score-ebe8b2c2ca1)."
   ]
  },
  {
   "cell_type": "code",
   "execution_count": 19,
   "metadata": {},
   "outputs": [],
   "source": [
    "def update_confusion_matrix(conf_matrix, preds, reals):\n",
    "    \"\"\"\n",
    "    Updates confusion matrix\n",
    "\n",
    "    Args:\n",
    "        conf_matrix : input confusion matrix\n",
    "        preds : array of predicted labels\n",
    "        reals : array of real labels\n",
    "\n",
    "    Returns:\n",
    "        conf_matrix : updated confusion matrix\n",
    "    \"\"\"\n",
    "    #################################\n",
    "    ##          Your Code          ##\n",
    "    #################################\n",
    "    for i in range(conf_matrix.shape[0]):\n",
    "        for j in range(conf_matrix.shape[1]):\n",
    "            conf_matrix[i, j] += np.sum((reals == i) & (preds == j))\n",
    "    return conf_matrix\n",
    "\n",
    "\n",
    "def f1_score(confusion_matrix):\n",
    "    \"\"\"\n",
    "    calculate macro f1 score from given confusion matrix\n",
    "\n",
    "    Args:\n",
    "        confusion_matrix : given confusion matrix\n",
    "        \n",
    "    Returns:\n",
    "        f1 : macro f1 score\n",
    "    \"\"\"\n",
    "    #################################\n",
    "    ##          Your Code          ##\n",
    "    #################################\n",
    "    f1_score = None\n",
    "    f1_scores = np.zeros(confusion_matrix.shape[0])\n",
    "    for i in range(confusion_matrix.shape[0]):\n",
    "        precision = 0.0\n",
    "        recall = 0.0\n",
    "        if np.sum(confusion_matrix[:, i]) != 0:\n",
    "            precision = confusion_matrix[i, i] / np.sum(confusion_matrix[:, i])\n",
    "        if np.sum(confusion_matrix[i, :]) != 0:\n",
    "            recall = confusion_matrix[i, i] / np.sum(confusion_matrix[i, :])\n",
    "        if precision + recall == 0:\n",
    "            f1_scores[i] = 0\n",
    "        else:\n",
    "            f1_scores[i] = 2 * recall * precision / (recall + precision)\n",
    "    f1_score = np.mean(f1_scores)\n",
    "    return f1_score\n",
    "\n",
    "def accuracy_score(confusion_matrix):\n",
    "    if np.sum(confusion_matrix) == 0:\n",
    "        return 0\n",
    "    return np.trace(confusion_matrix) / np.sum(confusion_matrix)"
   ]
  },
  {
   "cell_type": "markdown",
   "metadata": {},
   "source": [
    "### Define Model\n",
    "Define an MLP model to solve classification problem."
   ]
  },
  {
   "cell_type": "code",
   "execution_count": 20,
   "metadata": {},
   "outputs": [
    {
     "data": {
      "text/plain": [
       "3072"
      ]
     },
     "execution_count": 20,
     "metadata": {},
     "output_type": "execute_result"
    }
   ],
   "source": [
    "data['X_train'].shape[1]"
   ]
  },
  {
   "cell_type": "code",
   "execution_count": 21,
   "metadata": {},
   "outputs": [],
   "source": [
    "###############################################\n",
    "##             Define your model             ##\n",
    "##     use a good initializer for layers     ##\n",
    "###############################################\n",
    "def xavier_initializer(distro='normal'):\n",
    "    def xavier_normal_initializer(dim_in, dim_out):\n",
    "        fan_avg = (dim_in + dim_out) / 2\n",
    "        sigma = np.sqrt(1 / fan_avg)\n",
    "        mu = 0\n",
    "        weights = np.random.normal(mu, sigma, (dim_out, dim_in))\n",
    "        return weights\n",
    "    \n",
    "    def xavier_uniform_initializer(dim_in, dim_out):\n",
    "        fan_avg = (dim_in + dim_out) / 2\n",
    "        r = np.sqrt(3 / fan_avg)\n",
    "        weights = np.random.uniform(-r, r, (dim_out, dim_in))\n",
    "        return weights\n",
    "    \n",
    "    if distro == 'normal':\n",
    "        return xavier_normal_initializer\n",
    "    return xavier_uniform_initializer\n",
    "\n",
    "input_dim = data['X_train'].shape[1]\n",
    "num_classes = 10\n",
    "layers = [\n",
    "    LinearLayer(input_dim, 512, xavier_initializer(), True, 0.01, calc_grad_x=False),\n",
    "    ReLU(),\n",
    "    LinearLayer(512, 128, xavier_initializer(), True, 0.01),\n",
    "    ReLU(),\n",
    "    LinearLayer(128, 32, xavier_initializer(), True, 0.01),\n",
    "    ReLU(),\n",
    "    LinearLayer(32, num_classes, xavier_initializer(), True, 0.01),\n",
    "    LogSoftMax()\n",
    "]\n",
    "model = MLPModel(layers)"
   ]
  },
  {
   "cell_type": "code",
   "execution_count": 22,
   "metadata": {},
   "outputs": [],
   "source": [
    "#########################################\n",
    "##          Hyper parameters           ##\n",
    "#########################################\n",
    "\n",
    "n_epochs = 30\n",
    "batch_size = 100\n",
    "lr = 1e-3\n",
    "reg_coeff = 1e-2"
   ]
  },
  {
   "cell_type": "code",
   "execution_count": 23,
   "metadata": {},
   "outputs": [],
   "source": [
    "##################################################\n",
    "##      Define optimizer, loss and sampler      ##\n",
    "##################################################\n",
    "\n",
    "optimizer = Optimizer(model.get_parameters(), 'momentum', lr)\n",
    "criterion = CrossEntropyLoss(mean=True)\n",
    "train_sampler = RandomSampler(batch_size, data, 'train')\n",
    "val_sampler = RandomSampler(batch_size, data, 'val')\n",
    "test_sampler = RandomSampler(batch_size, data, 'test')"
   ]
  },
  {
   "cell_type": "markdown",
   "metadata": {},
   "source": [
    "### Train Model\n",
    "\n",
    "Fill in the below cell to train the model. Store each epoch loss, accuracy and f1-score. Use f1-score to choose best epoch.\n",
    "\n",
    "**Note1**: To do backpropagation you need to first call `backward` function of criterion with 1 as its argument to have gradient of loss w.r.t output of this module and then using model `backward` function with `criterion.grads['x']` argument.\n",
    "\n",
    "**Note2**: You can ignore regularization term in your total loss value and just use criterion, but you must consider that during updating."
   ]
  },
  {
   "cell_type": "code",
   "execution_count": 24,
   "metadata": {},
   "outputs": [
    {
     "name": "stderr",
     "output_type": "stream",
     "text": [
      "Train 0 | Loss:2.52e+00 | Acc: 0.14| F1: 0.14|: 100%|██████████| 45/45 [00:55<00:00,  1.23s/it]\n",
      "Val   0 | Loss:2.47e+00 | Acc: 0.20| F1: 0.19|: 100%|██████████| 4/4 [00:00<00:00, 27.08it/s]\n"
     ]
    },
    {
     "name": "stdout",
     "output_type": "stream",
     "text": [
      "----------------------------[Epoch1 finished!]----------------------------\n"
     ]
    },
    {
     "name": "stderr",
     "output_type": "stream",
     "text": [
      "Train 1 | Loss:2.47e+00 | Acc: 0.25| F1: 0.24|: 100%|██████████| 45/45 [00:58<00:00,  1.29s/it]\n",
      "Val   1 | Loss:2.51e+00 | Acc: 0.26| F1: 0.25|: 100%|██████████| 4/4 [00:00<00:00, 21.67it/s]\n"
     ]
    },
    {
     "name": "stdout",
     "output_type": "stream",
     "text": [
      "----------------------------[Epoch2 finished!]----------------------------\n"
     ]
    },
    {
     "name": "stderr",
     "output_type": "stream",
     "text": [
      "Train 2 | Loss:2.52e+00 | Acc: 0.30| F1: 0.30|: 100%|██████████| 45/45 [00:59<00:00,  1.33s/it]\n",
      "Val   2 | Loss:2.55e+00 | Acc: 0.27| F1: 0.26|: 100%|██████████| 4/4 [00:00<00:00, 22.48it/s]\n"
     ]
    },
    {
     "name": "stdout",
     "output_type": "stream",
     "text": [
      "----------------------------[Epoch3 finished!]----------------------------\n"
     ]
    },
    {
     "name": "stderr",
     "output_type": "stream",
     "text": [
      "Train 3 | Loss:2.56e+00 | Acc: 0.34| F1: 0.34|: 100%|██████████| 45/45 [00:57<00:00,  1.28s/it]\n",
      "Val   3 | Loss:2.59e+00 | Acc: 0.29| F1: 0.28|: 100%|██████████| 4/4 [00:00<00:00, 22.86it/s]\n"
     ]
    },
    {
     "name": "stdout",
     "output_type": "stream",
     "text": [
      "----------------------------[Epoch4 finished!]----------------------------\n"
     ]
    },
    {
     "name": "stderr",
     "output_type": "stream",
     "text": [
      "Train 4 | Loss:2.61e+00 | Acc: 0.39| F1: 0.38|: 100%|██████████| 45/45 [00:58<00:00,  1.29s/it]\n",
      "Val   4 | Loss:2.63e+00 | Acc: 0.30| F1: 0.29|: 100%|██████████| 4/4 [00:00<00:00, 19.23it/s]\n"
     ]
    },
    {
     "name": "stdout",
     "output_type": "stream",
     "text": [
      "----------------------------[Epoch5 finished!]----------------------------\n"
     ]
    },
    {
     "name": "stderr",
     "output_type": "stream",
     "text": [
      "Train 5 | Loss:2.65e+00 | Acc: 0.43| F1: 0.42|: 100%|██████████| 45/45 [00:59<00:00,  1.32s/it]\n",
      "Val   5 | Loss:2.67e+00 | Acc: 0.32| F1: 0.31|: 100%|██████████| 4/4 [00:00<00:00, 21.97it/s]\n"
     ]
    },
    {
     "name": "stdout",
     "output_type": "stream",
     "text": [
      "----------------------------[Epoch6 finished!]----------------------------\n"
     ]
    },
    {
     "name": "stderr",
     "output_type": "stream",
     "text": [
      "Train 6 | Loss:2.70e+00 | Acc: 0.47| F1: 0.46|: 100%|██████████| 45/45 [00:57<00:00,  1.28s/it]\n",
      "Val   6 | Loss:2.72e+00 | Acc: 0.32| F1: 0.31|: 100%|██████████| 4/4 [00:00<00:00, 22.60it/s]\n"
     ]
    },
    {
     "name": "stdout",
     "output_type": "stream",
     "text": [
      "----------------------------[Epoch7 finished!]----------------------------\n"
     ]
    },
    {
     "name": "stderr",
     "output_type": "stream",
     "text": [
      "Train 7 | Loss:2.75e+00 | Acc: 0.50| F1: 0.50|: 100%|██████████| 45/45 [01:00<00:00,  1.34s/it]\n",
      "Val   7 | Loss:2.76e+00 | Acc: 0.33| F1: 0.31|: 100%|██████████| 4/4 [00:00<00:00, 22.64it/s]\n"
     ]
    },
    {
     "name": "stdout",
     "output_type": "stream",
     "text": [
      "----------------------------[Epoch8 finished!]----------------------------\n"
     ]
    },
    {
     "name": "stderr",
     "output_type": "stream",
     "text": [
      "Train 8 | Loss:2.81e+00 | Acc: 0.54| F1: 0.54|: 100%|██████████| 45/45 [00:59<00:00,  1.31s/it]\n",
      "Val   8 | Loss:2.81e+00 | Acc: 0.32| F1: 0.31|: 100%|██████████| 4/4 [00:00<00:00, 21.63it/s]\n"
     ]
    },
    {
     "name": "stdout",
     "output_type": "stream",
     "text": [
      "----------------------------[Epoch9 finished!]----------------------------\n"
     ]
    },
    {
     "name": "stderr",
     "output_type": "stream",
     "text": [
      "Train 9 | Loss:2.87e+00 | Acc: 0.58| F1: 0.57|: 100%|██████████| 45/45 [01:01<00:00,  1.37s/it]\n",
      "Val   9 | Loss:2.86e+00 | Acc: 0.32| F1: 0.31|: 100%|██████████| 4/4 [00:00<00:00, 21.28it/s]\n"
     ]
    },
    {
     "name": "stdout",
     "output_type": "stream",
     "text": [
      "----------------------------[Epoch10 finished!]----------------------------\n"
     ]
    },
    {
     "name": "stderr",
     "output_type": "stream",
     "text": [
      "Train 10 | Loss:2.93e+00 | Acc: 0.61| F1: 0.61|: 100%|██████████| 45/45 [01:02<00:00,  1.40s/it]\n",
      "Val   10 | Loss:2.92e+00 | Acc: 0.33| F1: 0.32|: 100%|██████████| 4/4 [00:00<00:00, 21.81it/s]\n"
     ]
    },
    {
     "name": "stdout",
     "output_type": "stream",
     "text": [
      "----------------------------[Epoch11 finished!]----------------------------\n"
     ]
    },
    {
     "name": "stderr",
     "output_type": "stream",
     "text": [
      "Train 11 | Loss:3.00e+00 | Acc: 0.64| F1: 0.64|: 100%|██████████| 45/45 [01:05<00:00,  1.45s/it]\n",
      "Val   11 | Loss:2.97e+00 | Acc: 0.33| F1: 0.32|: 100%|██████████| 4/4 [00:00<00:00, 20.40it/s]\n"
     ]
    },
    {
     "name": "stdout",
     "output_type": "stream",
     "text": [
      "----------------------------[Epoch12 finished!]----------------------------\n"
     ]
    },
    {
     "name": "stderr",
     "output_type": "stream",
     "text": [
      "Train 12 | Loss:3.08e+00 | Acc: 0.67| F1: 0.67|: 100%|██████████| 45/45 [01:02<00:00,  1.40s/it]\n",
      "Val   12 | Loss:3.03e+00 | Acc: 0.32| F1: 0.32|: 100%|██████████| 4/4 [00:00<00:00, 21.60it/s]\n"
     ]
    },
    {
     "name": "stdout",
     "output_type": "stream",
     "text": [
      "----------------------------[Epoch13 finished!]----------------------------\n"
     ]
    },
    {
     "name": "stderr",
     "output_type": "stream",
     "text": [
      "Train 13 | Loss:3.15e+00 | Acc: 0.70| F1: 0.70|: 100%|██████████| 45/45 [01:01<00:00,  1.38s/it]\n",
      "Val   13 | Loss:3.09e+00 | Acc: 0.33| F1: 0.32|: 100%|██████████| 4/4 [00:00<00:00, 21.19it/s]\n"
     ]
    },
    {
     "name": "stdout",
     "output_type": "stream",
     "text": [
      "----------------------------[Epoch14 finished!]----------------------------\n"
     ]
    },
    {
     "name": "stderr",
     "output_type": "stream",
     "text": [
      "Train 14 | Loss:3.23e+00 | Acc: 0.73| F1: 0.73|: 100%|██████████| 45/45 [01:01<00:00,  1.37s/it]\n",
      "Val   14 | Loss:3.15e+00 | Acc: 0.33| F1: 0.32|: 100%|██████████| 4/4 [00:00<00:00, 22.12it/s]\n"
     ]
    },
    {
     "name": "stdout",
     "output_type": "stream",
     "text": [
      "----------------------------[Epoch15 finished!]----------------------------\n"
     ]
    },
    {
     "name": "stderr",
     "output_type": "stream",
     "text": [
      "Train 15 | Loss:3.32e+00 | Acc: 0.76| F1: 0.76|: 100%|██████████| 45/45 [01:03<00:00,  1.41s/it]\n",
      "Val   15 | Loss:3.22e+00 | Acc: 0.32| F1: 0.32|: 100%|██████████| 4/4 [00:00<00:00, 20.10it/s]\n"
     ]
    },
    {
     "name": "stdout",
     "output_type": "stream",
     "text": [
      "----------------------------[Epoch16 finished!]----------------------------\n"
     ]
    },
    {
     "name": "stderr",
     "output_type": "stream",
     "text": [
      "Train 16 | Loss:3.40e+00 | Acc: 0.79| F1: 0.79|: 100%|██████████| 45/45 [01:04<00:00,  1.43s/it]\n",
      "Val   16 | Loss:3.28e+00 | Acc: 0.31| F1: 0.31|: 100%|██████████| 4/4 [00:00<00:00, 22.98it/s]\n"
     ]
    },
    {
     "name": "stdout",
     "output_type": "stream",
     "text": [
      "----------------------------[Epoch17 finished!]----------------------------\n"
     ]
    },
    {
     "name": "stderr",
     "output_type": "stream",
     "text": [
      "Train 17 | Loss:3.50e+00 | Acc: 0.81| F1: 0.81|: 100%|██████████| 45/45 [01:04<00:00,  1.43s/it]\n",
      "Val   17 | Loss:3.35e+00 | Acc: 0.31| F1: 0.31|: 100%|██████████| 4/4 [00:00<00:00, 23.85it/s]\n"
     ]
    },
    {
     "name": "stdout",
     "output_type": "stream",
     "text": [
      "----------------------------[Epoch18 finished!]----------------------------\n"
     ]
    },
    {
     "name": "stderr",
     "output_type": "stream",
     "text": [
      "Train 18 | Loss:3.60e+00 | Acc: 0.83| F1: 0.83|: 100%|██████████| 45/45 [01:03<00:00,  1.40s/it]\n",
      "Val   18 | Loss:3.42e+00 | Acc: 0.31| F1: 0.31|: 100%|██████████| 4/4 [00:00<00:00, 19.52it/s]\n"
     ]
    },
    {
     "name": "stdout",
     "output_type": "stream",
     "text": [
      "----------------------------[Epoch19 finished!]----------------------------\n"
     ]
    },
    {
     "name": "stderr",
     "output_type": "stream",
     "text": [
      "Train 19 | Loss:3.70e+00 | Acc: 0.86| F1: 0.86|: 100%|██████████| 45/45 [01:04<00:00,  1.43s/it]\n",
      "Val   19 | Loss:3.49e+00 | Acc: 0.30| F1: 0.30|: 100%|██████████| 4/4 [00:00<00:00, 20.03it/s]\n"
     ]
    },
    {
     "name": "stdout",
     "output_type": "stream",
     "text": [
      "----------------------------[Epoch20 finished!]----------------------------\n"
     ]
    },
    {
     "name": "stderr",
     "output_type": "stream",
     "text": [
      "Train 20 | Loss:3.81e+00 | Acc: 0.88| F1: 0.88|: 100%|██████████| 45/45 [01:02<00:00,  1.38s/it]\n",
      "Val   20 | Loss:3.57e+00 | Acc: 0.30| F1: 0.30|: 100%|██████████| 4/4 [00:00<00:00, 18.23it/s]\n"
     ]
    },
    {
     "name": "stdout",
     "output_type": "stream",
     "text": [
      "----------------------------[Epoch21 finished!]----------------------------\n"
     ]
    },
    {
     "name": "stderr",
     "output_type": "stream",
     "text": [
      "Train 21 | Loss:3.92e+00 | Acc: 0.90| F1: 0.90|: 100%|██████████| 45/45 [01:08<00:00,  1.53s/it]\n",
      "Val   21 | Loss:3.64e+00 | Acc: 0.29| F1: 0.29|: 100%|██████████| 4/4 [00:00<00:00, 14.04it/s]\n"
     ]
    },
    {
     "name": "stdout",
     "output_type": "stream",
     "text": [
      "----------------------------[Epoch22 finished!]----------------------------\n"
     ]
    },
    {
     "name": "stderr",
     "output_type": "stream",
     "text": [
      "Train 22 | Loss:4.03e+00 | Acc: 0.91| F1: 0.91|: 100%|██████████| 45/45 [01:07<00:00,  1.50s/it]\n",
      "Val   22 | Loss:3.72e+00 | Acc: 0.29| F1: 0.29|: 100%|██████████| 4/4 [00:00<00:00, 21.74it/s]\n"
     ]
    },
    {
     "name": "stdout",
     "output_type": "stream",
     "text": [
      "----------------------------[Epoch23 finished!]----------------------------\n"
     ]
    },
    {
     "name": "stderr",
     "output_type": "stream",
     "text": [
      "Train 23 | Loss:4.15e+00 | Acc: 0.92| F1: 0.92|: 100%|██████████| 45/45 [01:02<00:00,  1.38s/it]\n",
      "Val   23 | Loss:3.79e+00 | Acc: 0.29| F1: 0.29|: 100%|██████████| 4/4 [00:00<00:00, 22.59it/s]\n"
     ]
    },
    {
     "name": "stdout",
     "output_type": "stream",
     "text": [
      "----------------------------[Epoch24 finished!]----------------------------\n"
     ]
    },
    {
     "name": "stderr",
     "output_type": "stream",
     "text": [
      "Train 24 | Loss:4.27e+00 | Acc: 0.93| F1: 0.93|: 100%|██████████| 45/45 [01:05<00:00,  1.46s/it]\n",
      "Val   24 | Loss:3.87e+00 | Acc: 0.29| F1: 0.29|: 100%|██████████| 4/4 [00:00<00:00, 23.21it/s]\n"
     ]
    },
    {
     "name": "stdout",
     "output_type": "stream",
     "text": [
      "----------------------------[Epoch25 finished!]----------------------------\n"
     ]
    },
    {
     "name": "stderr",
     "output_type": "stream",
     "text": [
      "Train 25 | Loss:4.39e+00 | Acc: 0.95| F1: 0.94|: 100%|██████████| 45/45 [01:03<00:00,  1.42s/it]\n",
      "Val   25 | Loss:3.95e+00 | Acc: 0.29| F1: 0.29|: 100%|██████████| 4/4 [00:00<00:00, 24.30it/s]\n"
     ]
    },
    {
     "name": "stdout",
     "output_type": "stream",
     "text": [
      "----------------------------[Epoch26 finished!]----------------------------\n"
     ]
    },
    {
     "name": "stderr",
     "output_type": "stream",
     "text": [
      "Train 26 | Loss:4.51e+00 | Acc: 0.96| F1: 0.96|: 100%|██████████| 45/45 [00:54<00:00,  1.20s/it]\n",
      "Val   26 | Loss:4.03e+00 | Acc: 0.28| F1: 0.28|: 100%|██████████| 4/4 [00:00<00:00, 24.37it/s]\n"
     ]
    },
    {
     "name": "stdout",
     "output_type": "stream",
     "text": [
      "----------------------------[Epoch27 finished!]----------------------------\n"
     ]
    },
    {
     "name": "stderr",
     "output_type": "stream",
     "text": [
      "Train 27 | Loss:4.63e+00 | Acc: 0.96| F1: 0.96|: 100%|██████████| 45/45 [00:54<00:00,  1.21s/it]\n",
      "Val   27 | Loss:4.11e+00 | Acc: 0.28| F1: 0.28|: 100%|██████████| 4/4 [00:00<00:00, 23.39it/s]\n"
     ]
    },
    {
     "name": "stdout",
     "output_type": "stream",
     "text": [
      "----------------------------[Epoch28 finished!]----------------------------\n"
     ]
    },
    {
     "name": "stderr",
     "output_type": "stream",
     "text": [
      "Train 28 | Loss:4.75e+00 | Acc: 0.97| F1: 0.97|: 100%|██████████| 45/45 [00:55<00:00,  1.23s/it]\n",
      "Val   28 | Loss:4.19e+00 | Acc: 0.28| F1: 0.27|: 100%|██████████| 4/4 [00:00<00:00, 23.06it/s]\n"
     ]
    },
    {
     "name": "stdout",
     "output_type": "stream",
     "text": [
      "----------------------------[Epoch29 finished!]----------------------------\n"
     ]
    },
    {
     "name": "stderr",
     "output_type": "stream",
     "text": [
      "Train 29 | Loss:4.88e+00 | Acc: 0.97| F1: 0.97|: 100%|██████████| 45/45 [00:59<00:00,  1.33s/it]\n",
      "Val   29 | Loss:4.26e+00 | Acc: 0.27| F1: 0.27|: 100%|██████████| 4/4 [00:00<00:00, 22.79it/s]\n"
     ]
    },
    {
     "name": "stdout",
     "output_type": "stream",
     "text": [
      "----------------------------[Epoch30 finished!]----------------------------\n"
     ]
    }
   ],
   "source": [
    "#########################################\n",
    "##      Train and Validation loop      ##\n",
    "#########################################\n",
    "train_losses, val_losses = [], []\n",
    "train_accs, val_accs = [], []\n",
    "train_f1, val_f1 = [], []\n",
    "best_model = None\n",
    "best_f1 = 0\n",
    "\n",
    "for epoch in range(n_epochs):\n",
    "    \n",
    "    # Train Phase\n",
    "    total_loss = 0\n",
    "    N = 0\n",
    "    confusion = np.zeros((10, 10))\n",
    "    with tqdm.tqdm(enumerate(train_sampler), total=len(train_sampler)) as pbar:\n",
    "        for i, (x, y) in pbar:\n",
    "            #################################\n",
    "            ##          Your Code          ##\n",
    "            #################################\n",
    "            y_pred = model(x)\n",
    "            out = np.argmax(y_pred, axis=1)\n",
    "            N += len(x)\n",
    "            total_loss += criterion(y_pred, y)\n",
    "            criterion.backward(1)\n",
    "            model.backward(criterion.grads['x'])\n",
    "            optimizer.step()\n",
    "            \n",
    "            update_confusion_matrix(confusion, out, y)\n",
    "            acc = accuracy_score(confusion)\n",
    "            f1 = f1_score(confusion)\n",
    "            pbar.set_description(f'Train {epoch} | Loss:{total_loss/N:.2e} | Acc: {acc:.2f}| F1: {f1:.2f}|')\n",
    "    \n",
    "    acc = accuracy_score(confusion)\n",
    "    f1 = f1_score(confusion)\n",
    "    # save epoch metrics for train phase\n",
    "    train_losses.append(total_loss/N)\n",
    "    train_accs.append(acc)\n",
    "    train_f1.append(f1)\n",
    "    \n",
    "\n",
    "    # Validation Phase\n",
    "    total_loss = 0\n",
    "    N = 0\n",
    "    confusion = np.zeros((10, 10))\n",
    "    with tqdm.tqdm(enumerate(val_sampler), total=len(val_sampler)) as pbar:\n",
    "        for i, (x, y) in pbar:\n",
    "            #################################\n",
    "            ##          Your Code          ##\n",
    "            #################################\n",
    "            y_pred = model(x)\n",
    "            out = np.argmax(y_pred, axis=1)\n",
    "            total_loss += criterion(y_pred, y)\n",
    "            N += len(x)\n",
    "            \n",
    "            update_confusion_matrix(confusion, out, y)\n",
    "            acc = accuracy_score(confusion)\n",
    "            f1 = f1_score(confusion)\n",
    "            pbar.set_description(f'Val   {epoch} | Loss:{total_loss/N:.2e} | Acc: {acc:.2f}| F1: {f1:.2f}|')\n",
    "    \n",
    "    acc = accuracy_score(confusion)\n",
    "    f1 = f1_score(confusion)\n",
    "    # save epoch metrics for validation phase\n",
    "    val_losses.append(total_loss/N)\n",
    "    val_accs.append(acc)\n",
    "    val_f1.append(f1)\n",
    "    \n",
    "    \n",
    "    #################################\n",
    "    ##       update best model     ##\n",
    "    ##          Your Code          ##\n",
    "    #################################\n",
    "    if val_f1[-1] >= min(val_f1):\n",
    "        best_model = copy.deepcopy(model)\n",
    "        best_f1 = val_f1[-1]    \n",
    "    \n",
    "    print(f'----------------------------[Epoch{epoch+1} finished!]----------------------------')"
   ]
  },
  {
   "cell_type": "markdown",
   "metadata": {},
   "source": [
    "### Test Model"
   ]
  },
  {
   "cell_type": "code",
   "execution_count": 25,
   "metadata": {},
   "outputs": [
    {
     "data": {
      "image/png": "[encoded data removed]",
      "text/plain": [
       "<Figure size 1512x504 with 3 Axes>"
      ]
     },
     "metadata": {},
     "output_type": "display_data"
    }
   ],
   "source": [
    "######################################################################\n",
    "##      Plot train and validation loss, accuracy and f1 graphs      ##\n",
    "######################################################################\n",
    "plot_x = np.arange(n_epochs)\n",
    "fig, axs = plt.subplots(nrows=1, ncols=3)\n",
    "fig.set_size_inches((21, 7))\n",
    "axs[0].plot(plot_x, train_losses, label='Train Loss')\n",
    "axs[0].plot(plot_x, val_losses, label='Val Loss')\n",
    "axs[0].legend(loc='upper right')\n",
    "axs[1].plot(plot_x, train_accs, label='Train Accuracy')\n",
    "axs[1].plot(plot_x, val_accs, label='Val Accuracy')\n",
    "axs[1].legend(loc='upper right')\n",
    "axs[2].plot(plot_x, train_f1, label='Train F1')\n",
    "axs[2].plot(plot_x, val_f1, label='Val F1')\n",
    "axs[2].legend(loc='upper right')\n",
    "\n",
    "plt.show()"
   ]
  },
  {
   "cell_type": "code",
   "execution_count": 26,
   "metadata": {},
   "outputs": [
    {
     "name": "stdout",
     "output_type": "stream",
     "text": [
      "\n",
      "Test Loss: 4.367917158187608\n",
      "Test Accuracy: 0.351\n",
      "Test F1: 0.34940329728660163\n"
     ]
    },
    {
     "data": {
      "image/png": "[encoded data removed]",
      "text/plain": [
       "<Figure size 288x288 with 1 Axes>"
      ]
     },
     "metadata": {},
     "output_type": "display_data"
    }
   ],
   "source": [
    "############################################################\n",
    "##                  Test your best model                  ##\n",
    "##          Report loss, accuracy and f1 metrics          ##\n",
    "##      Also plot the confusion matrix for test data      ##\n",
    "############################################################\n",
    "X_test = data['X_test']\n",
    "Y_test = data['Y_test']\n",
    "\n",
    "print()\n",
    "\n",
    "Y_test_pred = best_model(X_test)\n",
    "Y_test_out = np.argmax(Y_test_pred, axis=1)\n",
    "\n",
    "test_loss = criterion(Y_test_pred, Y_test) / len(Y_test)\n",
    "test_confusion = update_confusion_matrix(np.zeros((10, 10)), Y_test_out, Y_test)\n",
    "test_accuracy = accuracy_score(test_confusion)\n",
    "test_f1 = f1_score(test_confusion)\n",
    "\n",
    "print(f'Test Loss: {test_loss}')\n",
    "print(f'Test Accuracy: {test_accuracy}')\n",
    "print(f'Test F1: {test_f1}')\n",
    "\n",
    "plt.matshow(test_confusion)\n",
    "plt.xticks(np.arange(10))\n",
    "plt.yticks(np.arange(10))\n",
    "plt.ylabel('Real')\n",
    "plt.xlabel('Predicted')\n",
    "plt.show()"
   ]
  },
  {
   "cell_type": "markdown",
   "metadata": {},
   "source": [
    "## Weights Visualization (5 Points)\n",
    "\n",
    "For the last part we want to visualize weights matrix of the first layer."
   ]
  },
  {
   "cell_type": "code",
   "execution_count": 27,
   "metadata": {},
   "outputs": [
    {
     "data": {
      "image/png": "[encoded data removed]",
      "text/plain": [
       "<Figure size 432x288 with 1 Axes>"
      ]
     },
     "metadata": {},
     "output_type": "display_data"
    },
    {
     "data": {
      "image/png": "[encoded data removed]",
      "text/plain": [
       "<Figure size 432x288 with 1 Axes>"
      ]
     },
     "metadata": {},
     "output_type": "display_data"
    },
    {
     "data": {
      "image/png": "[encoded data removed]",
      "text/plain": [
       "<Figure size 432x288 with 1 Axes>"
      ]
     },
     "metadata": {},
     "output_type": "display_data"
    },
    {
     "data": {
      "image/png": "[encoded data removed]",
      "text/plain": [
       "<Figure size 432x288 with 1 Axes>"
      ]
     },
     "metadata": {},
     "output_type": "display_data"
    },
    {
     "data": {
      "image/png": "[encoded data removed]",
      "text/plain": [
       "<Figure size 432x288 with 1 Axes>"
      ]
     },
     "metadata": {},
     "output_type": "display_data"
    }
   ],
   "source": [
    "##########################################################\n",
    "##          Visualize n of first layer weights          ##\n",
    "##          First reshape them to (32, 32, 3)           ##\n",
    "##########################################################\n",
    "n = 5\n",
    "first_layer_weights = best_model.layers[0].params['W']\n",
    "random_idx = np.random.choice(np.arange(first_layer_weights.shape[0]), n)\n",
    "candidates = first_layer_weights[random_idx].reshape(n, 32, 32, 3)\n",
    "for candidate in candidates:\n",
    "    min_r, min_b, min_g = np.min(candidate[:,:,0]), np.min(candidate[:,:,1]), np.min(candidate[:,:,2])\n",
    "    max_r, max_b, max_g = np.max(candidate[:,:,0]), np.max(candidate[:,:,1]), np.max(candidate[:,:,2])\n",
    "    candidate[:, :, 0] = (candidate[:, :, 0] - min_r) / (max_r - min_r)\n",
    "    candidate[:, :, 1] = (candidate[:, :, 1] - min_b) / (max_b - min_b)\n",
    "    candidate[:, :, 2] = (candidate[:, :, 2] - min_g) / (max_g - min_g)\n",
    "    plt.imshow(candidate)\n",
    "    plt.xticks([])\n",
    "    plt.yticks([])\n",
    "    plt.show()"
   ]
  }
 ],
 "metadata": {
  "colab": {
   "provenance": []
  },
  "kernelspec": {
   "display_name": "base",
   "language": "python",
   "name": "python3"
  },
  "language_info": {
   "codemirror_mode": {
    "name": "ipython",
    "version": 3
   },
   "file_extension": ".py",
   "mimetype": "text/x-python",
   "name": "python",
   "nbconvert_exporter": "python",
   "pygments_lexer": "ipython3",
   "version": "3.9.12 (main, Apr  5 2022, 06:56:58) \n[GCC 7.5.0]"
  },
  "vscode": {
   "interpreter": {
    "hash": "4505c32f76012c632bc1937466981275dc824c4a4bf8fed43f9e38cd69a6e7a6"
   }
  }
 },
 "nbformat": 4,
 "nbformat_minor": 1
}
